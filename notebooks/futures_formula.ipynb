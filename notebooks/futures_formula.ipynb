{
 "cells": [
  {
   "cell_type": "markdown",
   "id": "a828a694-d6f7-4e42-846c-178cbba38a32",
   "metadata": {},
   "source": [
    "$$ \n",
    "F_{0,t} = S_0 \\times e^{(r_{0,t}-q_{0,t})t}\n",
    "$$\n",
    "$$\n",
    "F_{t,T} = S_t \\times e^{(r_{t,T}-q_{t,T})(T-t)} \n",
    "$$  "
   ]
  },
  {
   "cell_type": "markdown",
   "id": "903b62d3-02cd-45ce-92e0-a0cea2e04104",
   "metadata": {},
   "source": [
    "The value of a futures is the spot times the interest factor:\n",
    "$$\n",
    "F = S_0 \\times exp\\{(r - q)T\\} \n",
    "$$\n",
    "Think carefully about the $r$ and $q$. Which interest rate and dividend rate are we referring to?   \n",
    "We are referring to $r_{0,T}$ and $q_{0,T}$, namely the interest rate and the dividend rate from now to the maturity (date of exercise in effect).   \n",
    "So the equation becomes:\n",
    "$$\n",
    "F = S_0 \\times exp\\{(r_{0,T} - q_{0,T})T\\} \n",
    "$$\n",
    "  \n",
    "Now think about the $F$. What does this $F$mean actually? Which futures are we referring to? The futures listed and sold now? Tommorrow? Next year? When can it be exercised? It does not give us anything information about it.   \n",
    "So the first question is: when do we observe the futures price? It is now. At this moment. So $F$ becomes $F_0$.   \n",
    "So the equation becomes:\n",
    "$$\n",
    "F_0 = S_0 \\times exp\\{(r_{0,T} - q_{0,T})T\\} \n",
    "$$\n",
    "  \n",
    "Now think about the $F_0$ again. We know that it is the futures listed on the market now. The one whose price we can observe at this moment.   \n",
    "But when will we exercise the futures? Which future date are we looking into? When will we want to buy the stock in the price locked by the futures? That is at time $T$.   \n",
    "So the equation becomes:\n",
    "$$\n",
    "F_{0,T} = S_0 \\times exp\\{(r_{0,T} - q_{0,T})T\\} \n",
    "$$\n",
    "  \n",
    "Verbally, it is the \"futures listed on the market at this moment, with an exercise date at a future time $T$, and its value is based off of the current stock price times an interest factor.\"\n",
    "  \n",
    "  \n",
    "So we have $F_{0,T}$, and we know its formula, which is $S_0 \\times exp\\{(r_{0,T} - q_{0,T})T\\}$.\n",
    "  \n",
    "Now we come across $F_{t,T}$. Can we deduce its formula?\n",
    "  \n",
    "Yes, just change the $F_{0,T}$ that we got to make it become $F_{t,T}$. And it is done by changing the $0$ to $t$.\n",
    "  \n",
    "So the equation becomes:\n",
    "$$\n",
    "    \\begin{align}\n",
    "    F_{0,T} & = S_0 \\times exp\\{(r_{0,t} - q_{0,t})t\\} \\\\\n",
    "    F_{t,T} & = S_t \\times exp\\{(r_{t,T} - q_{t,T})(T-t)\\}\n",
    "    \\end{align}\n",
    "$$"
   ]
  }
 ],
 "metadata": {
  "kernelspec": {
   "display_name": "Python 3 (ipykernel)",
   "language": "python",
   "name": "python3"
  },
  "language_info": {
   "codemirror_mode": {
    "name": "ipython",
    "version": 3
   },
   "file_extension": ".py",
   "mimetype": "text/x-python",
   "name": "python",
   "nbconvert_exporter": "python",
   "pygments_lexer": "ipython3",
   "version": "3.12.0"
  }
 },
 "nbformat": 4,
 "nbformat_minor": 5
}
