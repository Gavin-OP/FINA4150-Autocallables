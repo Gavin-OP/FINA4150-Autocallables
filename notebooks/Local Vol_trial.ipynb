{
 "cells": [
  {
   "cell_type": "markdown",
   "id": "1ee64299",
   "metadata": {},
   "source": [
    "### Transfrom implied vol to Local Vol\n",
    "### Goal  $$Find \\space V_L \\space based \\space on \\space code $$ \n",
    "### Only pseudo code!!\n"
   ]
  },
  {
   "cell_type": "markdown",
   "id": "ae1f7601",
   "metadata": {},
   "source": [
    "## Not Sure whether current time is needed to calculate the transformation to local vol, or just maturity time is needed for transfromation, here, I  use only maturity time"
   ]
  },
  {
   "cell_type": "markdown",
   "id": "e5151935",
   "metadata": {},
   "source": [
    "### Two additional function is required and I haven't defined in here"
   ]
  },
  {
   "cell_type": "markdown",
   "id": "6c3d7bfe",
   "metadata": {},
   "source": [
    "### 𝑓𝑜𝑟𝑤𝑎𝑟𝑑_𝑚𝑜𝑛𝑒𝑦𝑛𝑒𝑠𝑠 + 𝑣𝑜𝑙_𝑠𝑢𝑟𝑓𝑎𝑐𝑒_𝑡𝑜_𝑣𝑜𝑙"
   ]
  },
  {
   "cell_type": "markdown",
   "id": "1139954d",
   "metadata": {},
   "source": [
    "### $$ y  = \\log(\\frac{K}  {F_{T}})$$"
   ]
  },
  {
   "cell_type": "markdown",
   "id": "ff5d65ab",
   "metadata": {},
   "source": [
    "### We get y from S0, T , K?( I am not sure about the variable dependence\n",
    "#### Here T denote the time to maturity"
   ]
  },
  {
   "cell_type": "markdown",
   "id": "d15ec6dc",
   "metadata": {},
   "source": [
    "### $$ Y = forward \\_moneyness(K,S0,T + time\\_steps) $$"
   ]
  },
  {
   "cell_type": "code",
   "execution_count": 5,
   "id": "2035cd3b",
   "metadata": {},
   "outputs": [],
   "source": [
    "import numpy as np"
   ]
  },
  {
   "cell_type": "code",
   "execution_count": 2,
   "id": "6319e550",
   "metadata": {},
   "outputs": [],
   "source": [
    "# By numerical  Differential\n",
    "# By Lecture 7, p11-12\n",
    "# w = \n",
    "# Assume calculate y = forward_moneyness(K,S0,T + time_steps)\n",
    "# Assume calculate w  = sigma_BS^2 * T = vol_surface_to_vol(lnKS_2,T + time_steps)** 2) * T\n",
    "def dw_dT(K,S0,T,time_steps): #Timesteps, in sense of 1 day = 1, for maturity\n",
    "    y1 = forward_moneyness(K,S0,T + time_steps) # forward_moneyness, to calculate forward moneyness\n",
    "    y2 = forward_moneyness(K,S0,T)\n",
    "    \n",
    "    w1 = (vol_surface_to_vol(y1,T + time_steps)** 2) * (T + time_steps)# vol_surface_to_vol = BS sigma\n",
    "    w2 = (vol_surface_to_vol(y2,time_steps) ** 2) * T\n",
    "    return (w1 - w2)/(T + timesteps - T) # Simulation function to generate price"
   ]
  },
  {
   "cell_type": "markdown",
   "id": "e04a1187",
   "metadata": {},
   "source": [
    "### $$ w(S_0,K,T) = \\sigma_{BS}^2(S_0,K,T)T $$"
   ]
  },
  {
   "cell_type": "markdown",
   "id": "cd69b71b",
   "metadata": {},
   "source": [
    "### Based On moneyness and Maturity, we substitute it to vol surface, and we get implied vol"
   ]
  },
  {
   "cell_type": "markdown",
   "id": "c1eb3662",
   "metadata": {},
   "source": [
    "$$ \\sigma_{BS} = vol\\_surface\\_to\\_vol(\\log{\\frac{K}{F_t}},T) $$"
   ]
  },
  {
   "cell_type": "markdown",
   "id": "ea5530b0",
   "metadata": {},
   "source": [
    "$$ w = (vol \\space surface \\space to\\space vol(\\log{\\frac{K}{F_t}},T + time\\_steps) ^2 ) * T$$"
   ]
  },
  {
   "cell_type": "code",
   "execution_count": 6,
   "id": "8ff6f51c",
   "metadata": {},
   "outputs": [],
   "source": [
    "def dw_dy(S0,K,T,time_steps):\n",
    "    # forward_moneyness, to calculate forward moneyness,not sure it needs S0 or  others\n",
    "    y1 = np.log(forward_moneyness(S0,K,T + time_steps)) #Forward Moneyness\n",
    "    y2 = np.log(forward_moneyness(K,T))\n",
    "    \n",
    "    w1 = (vol_surface_to_vol(y1,T + time_steps) ** 2) * (T + time_steps)\n",
    "    w2 = (vol_surface_to_vol(y2,T) ** 2) * T\n",
    "    return (w1 - w2)/(y1 - y2)                      "
   ]
  },
  {
   "cell_type": "code",
   "execution_count": 4,
   "id": "1587b7cc",
   "metadata": {},
   "outputs": [],
   "source": [
    "def dw2_dy2(S0,K,T,timesteps): # what is w?\n",
    "    y1 = np.log(forward_moneyness(S0,K,T + time_steps))\n",
    "    y2 = np.log(forward_moneyness(K,T))\n",
    "    \n",
    "    lnKS_neg_dt = np.log(forward_moneyness(K,S0,T + time_steps))\n",
    "    \n",
    "    w1 = (vol_surface_to_vol(lnKS_dt,T + time_steps) ** 2) * (T + time_steps) \n",
    "    w2 = (vol_surface_to_vol(lnKS,T )** 2) * T \n",
    "    w3 = (vol_surface_to_vol(lnKS_neg_dt,T) ** 2) * (T - time_steps)\n",
    "    return (w1 - 2 * w2 + w3) / ((y1 - y2)**2)"
   ]
  },
  {
   "cell_type": "code",
   "execution_count": 7,
   "id": "11db55c4",
   "metadata": {},
   "outputs": [],
   "source": [
    "def RHS(S0,K,T,timesteps): #RHS excluding v_l\n",
    "    y = np.log(forward_moneyness(S0,K,T + time_steps))\n",
    "    w = (vol_surface_to_vol(lnKS,T )** 2) * T \n",
    "    dw_dy = dw_dy(S0,K,T,time_steps)\n",
    "    rhs = 1 - y / w * dw_dy + 1/4 * (-1/4 - 1 /w + (y ** 2)/(w ** 2) * (dw_dy) ** 2 + 1/2 * dw2_dy2)\n",
    "    dw_dT = dw_dy(S0,K,T,time_steps)\n",
    "    local_vol = dw_dy / rhs\n",
    "    return local_vol"
   ]
  }
 ],
 "metadata": {
  "kernelspec": {
   "display_name": "Python 3 (ipykernel)",
   "language": "python",
   "name": "python3"
  },
  "language_info": {
   "codemirror_mode": {
    "name": "ipython",
    "version": 3
   },
   "file_extension": ".py",
   "mimetype": "text/x-python",
   "name": "python",
   "nbconvert_exporter": "python",
   "pygments_lexer": "ipython3",
   "version": "3.9.13"
  }
 },
 "nbformat": 4,
 "nbformat_minor": 5
}
